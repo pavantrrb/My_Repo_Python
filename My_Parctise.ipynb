{
 "cells": [
  {
   "cell_type": "code",
   "execution_count": 2,
   "id": "8c05ce53-6cce-44cd-9de2-8fbc687645a3",
   "metadata": {},
   "outputs": [
    {
     "name": "stdout",
     "output_type": "stream",
     "text": [
      "hello, World\n"
     ]
    }
   ],
   "source": [
    "print(\"hello, World\")"
   ]
  },
  {
   "cell_type": "code",
   "execution_count": 6,
   "id": "b526a68a-f532-468c-b307-d76ed304aa58",
   "metadata": {},
   "outputs": [
    {
     "name": "stdout",
     "output_type": "stream",
     "text": [
      "hello, World.pavan Here\n"
     ]
    }
   ],
   "source": [
    "#To print variable value in string.\n",
    "#format is method of string object\n",
    "x='pavan Here'\n",
    "print(\"hello, World.{}\".format(x))"
   ]
  },
  {
   "cell_type": "code",
   "execution_count": 8,
   "id": "effcd592-136b-4cee-8fff-c6f1227126be",
   "metadata": {},
   "outputs": [
    {
     "name": "stdout",
     "output_type": "stream",
     "text": [
      "hello, World.pavan Here\n"
     ]
    }
   ],
   "source": [
    "#Same as above code\n",
    "#Format- this is ot a method of print function.its method of string object itself\n",
    "x='pavan Here'\n",
    "s=\"hello, World.{}\".format(x)\n",
    "print(s)"
   ]
  },
  {
   "cell_type": "code",
   "execution_count": 1,
   "id": "7c3a0bba-ebfa-4e04-8c78-de6d165dbcc9",
   "metadata": {},
   "outputs": [
    {
     "name": "stdout",
     "output_type": "stream",
     "text": [
      "hello, World.pavan Here\n"
     ]
    }
   ],
   "source": [
    "#Beginning from 3.6 Format is changed as below\n",
    "x='pavan Here'\n",
    "print(f\"hello, World.{x}\")"
   ]
  },
  {
   "cell_type": "code",
   "execution_count": 5,
   "id": "b0d27ac5-9627-4307-b81c-2006ea020553",
   "metadata": {},
   "outputs": [
    {
     "name": "stdout",
     "output_type": "stream",
     "text": [
      "x < y: x is 42 and y is 73\n"
     ]
    }
   ],
   "source": [
    "#Blocks and indentation is either at 0 or 4th position:\n",
    "x=42\n",
    "y=73\n",
    "if x < y :\n",
    "    print('x < y: x is {} and y is {}'.format(x,y))\n",
    "    "
   ]
  },
  {
   "cell_type": "code",
   "execution_count": 8,
   "id": "50c30276-a0d1-4f1d-a1c7-e3c62c1cc9be",
   "metadata": {},
   "outputs": [
    {
     "name": "stdout",
     "output_type": "stream",
     "text": [
      "x < y: x is 42 and y is 73\n",
      "something else\n"
     ]
    }
   ],
   "source": [
    "#Blocks and indentation is either at 0 or 4th position:\n",
    "x=42\n",
    "y=73\n",
    "if x < y : #if codition true bothe iwll print else only \"something else\" will print\n",
    "    print('x < y: x is {} and y is {}'.format(x,y))\n",
    "print(\"something else\")    \n",
    "    "
   ]
  },
  {
   "cell_type": "code",
   "execution_count": 26,
   "id": "f7243368-b685-4ca0-a539-aed4b218ebc9",
   "metadata": {},
   "outputs": [
    {
     "name": "stdout",
     "output_type": "stream",
     "text": [
      "x < y: x is 42 and y is 73\n",
      "line 1\n",
      "line 2\n",
      "line 3\n",
      "line 4\n",
      "something else\n"
     ]
    }
   ],
   "source": [
    "#Blocks in python are indentent at same level and indentation is either at 0 or 4th position:\n",
    "x=42\n",
    "y=73\n",
    "if x< y : #if codition true all will print else only \"line 4\",\"something else\" will print.\n",
    "           #If any prnt or statement starts at other than 0th or 4th tab it throws unindendent error.\n",
    "    print('x < y: x is {} and y is {}'.format(x,y))\n",
    "    print(\"line 1\")\n",
    "    print(\"line 2\")\n",
    "    print(\"line 3\")\n",
    "print(\"line 4\")    \n",
    "print(\"something else\")    "
   ]
  },
  {
   "cell_type": "code",
   "execution_count": 30,
   "id": "9ef88c6b-1b78-4f78-921e-9dd3780a922f",
   "metadata": {},
   "outputs": [
    {
     "name": "stdout",
     "output_type": "stream",
     "text": [
      "line 4\n",
      "something else\n"
     ]
    }
   ],
   "source": [
    "x=42\n",
    "y=73\n",
    "if x > y : #if codition true till \"lin3 is printred and \"something else\" else only \"line 4\",\"something else\" will print.\n",
    "    print('x < y: x is {} and y is {}'.format(x,y))\n",
    "    print(\"line 1\")\n",
    "    print(\"line 2\")\n",
    "    print(\"line 3\")\n",
    "else:    \n",
    "    print(\"line 4\")    \n",
    "print(\"something else\")    "
   ]
  },
  {
   "cell_type": "code",
   "execution_count": 1,
   "id": "525f75e2-a5b8-447e-a8f8-973741d0eeb1",
   "metadata": {},
   "outputs": [
    {
     "name": "stdout",
     "output_type": "stream",
     "text": [
      "one\n",
      "two\n",
      "three\n",
      "four\n"
     ]
    },
    {
     "ename": "IndexError",
     "evalue": "list index out of range",
     "output_type": "error",
     "traceback": [
      "\u001b[1;31m---------------------------------------------------------------------------\u001b[0m",
      "\u001b[1;31mIndexError\u001b[0m                                Traceback (most recent call last)",
      "\u001b[1;32m~\\AppData\\Local\\Temp/ipykernel_36908/770538577.py\u001b[0m in \u001b[0;36m<module>\u001b[1;34m\u001b[0m\n\u001b[0;32m      5\u001b[0m \u001b[0mn\u001b[0m\u001b[1;33m=\u001b[0m\u001b[1;36m0\u001b[0m\u001b[1;33m\u001b[0m\u001b[1;33m\u001b[0m\u001b[0m\n\u001b[0;32m      6\u001b[0m \u001b[1;32mwhile\u001b[0m\u001b[1;33m(\u001b[0m\u001b[0mn\u001b[0m\u001b[1;33m<\u001b[0m\u001b[1;36m5\u001b[0m\u001b[1;33m)\u001b[0m\u001b[1;33m:\u001b[0m\u001b[1;33m\u001b[0m\u001b[1;33m\u001b[0m\u001b[0m\n\u001b[1;32m----> 7\u001b[1;33m     \u001b[0mprint\u001b[0m\u001b[1;33m(\u001b[0m\u001b[0mwords1\u001b[0m\u001b[1;33m[\u001b[0m\u001b[0mn\u001b[0m\u001b[1;33m]\u001b[0m\u001b[1;33m)\u001b[0m\u001b[1;33m\u001b[0m\u001b[1;33m\u001b[0m\u001b[0m\n\u001b[0m\u001b[0;32m      8\u001b[0m     \u001b[0mn\u001b[0m \u001b[1;33m+=\u001b[0m\u001b[1;36m1\u001b[0m\u001b[1;33m\u001b[0m\u001b[1;33m\u001b[0m\u001b[0m\n\u001b[0;32m      9\u001b[0m \u001b[0mprint\u001b[0m\u001b[1;33m(\u001b[0m\u001b[1;34m\"while condition executed\"\u001b[0m\u001b[1;33m)\u001b[0m\u001b[1;33m\u001b[0m\u001b[1;33m\u001b[0m\u001b[0m\n",
      "\u001b[1;31mIndexError\u001b[0m: list index out of range"
     ]
    }
   ],
   "source": [
    "#Loops while,For\n",
    "#Whiles loop tests a condition and execute body of loop  while condition is true\n",
    "#For loop body of loop is executed for each element in sequence until sequence completed.\n",
    "words1=['one','two','three','four']\n",
    "n=0\n",
    "while(n<5):\n",
    "    print(words1[n])\n",
    "    n +=1\n",
    "print(\"while condition executed\")    "
   ]
  },
  {
   "cell_type": "code",
   "execution_count": 47,
   "id": "65b10fed-9ef4-4bf3-8725-5774c5b74a4c",
   "metadata": {},
   "outputs": [
    {
     "name": "stdout",
     "output_type": "stream",
     "text": [
      "1 1 2 3 5 8 13 21 34 55 89 \n"
     ]
    }
   ],
   "source": [
    "#Loops while,For\n",
    "#Whiles loop tests a condition and execute body of loop  while condition is true\n",
    "#For loop body of loop is executed for each element in sequence until sequence completed.\n",
    "a, b = 0, 1\n",
    "while(b<100):\n",
    "    print(b,end=' ',flush=True)\n",
    "    a,b=b,a+b \n",
    "print()  "
   ]
  },
  {
   "cell_type": "code",
   "execution_count": 50,
   "id": "c2ea1320-296e-4bb2-9498-a4eea257fc4c",
   "metadata": {},
   "outputs": [
    {
     "name": "stdout",
     "output_type": "stream",
     "text": [
      "one\n",
      "two\n",
      "three\n",
      "four\n"
     ]
    }
   ],
   "source": [
    "# For loop is easy and convininet tham while\n",
    "words1=['one','two','three','four']\n",
    "for i in words1:\n",
    "    print(i)"
   ]
  },
  {
   "cell_type": "code",
   "execution_count": 2,
   "id": "f399af01-dc38-40a8-a0fc-cbed122bdce1",
   "metadata": {},
   "outputs": [
    {
     "name": "stdout",
     "output_type": "stream",
     "text": [
      "7\n"
     ]
    }
   ],
   "source": [
    "#Functions with default args:\n",
    "def func4(n = 7):\n",
    "    print(n)\n",
    "func4()    "
   ]
  },
  {
   "cell_type": "code",
   "execution_count": 3,
   "id": "c29ddf37-65c7-486f-afe3-817b975dba16",
   "metadata": {},
   "outputs": [
    {
     "name": "stdout",
     "output_type": "stream",
     "text": [
      "hello\n"
     ]
    }
   ],
   "source": [
    "#Functions with args:\n",
    "def func4(n):\n",
    "    print(n)\n",
    "func4(\"hello\")   "
   ]
  },
  {
   "cell_type": "code",
   "execution_count": 4,
   "id": "cd2acab6-fae1-4932-ba85-bd3b7bd8de9d",
   "metadata": {},
   "outputs": [
    {
     "name": "stdout",
     "output_type": "stream",
     "text": [
      "hello\n",
      "hello\n"
     ]
    }
   ],
   "source": [
    "#Functions with args and return value. all functions in python has return  values,if no return it will pass none\n",
    "def func4(n):\n",
    "    print(n)\n",
    "    return (n) # if return is commented then we get output as \"Hello\" and \"None\".else we get hello,hello\n",
    "x=func4(\"hello\")   \n",
    "print(x)"
   ]
  },
  {
   "cell_type": "code",
   "execution_count": 81,
   "id": "298889d1-382e-4741-b13f-c50454224464",
   "metadata": {},
   "outputs": [
    {
     "name": "stdout",
     "output_type": "stream",
     "text": [
      "hello\n",
      "hellopavan\n"
     ]
    }
   ],
   "source": [
    "#Functions with args and return value. all functions in python has return  values,if no return it will pass none\n",
    "def func4(n):\n",
    "    print(n)\n",
    "    return (n+'pavan') # if return is commented then we get output as \"Hello\" and \"None\".else we get hello,hellopavan\n",
    "x=func4(\"hello\")   \n",
    "print(x)"
   ]
  },
  {
   "cell_type": "code",
   "execution_count": 84,
   "id": "362b5fb4-e012-4a42-a0b5-8e7467575617",
   "metadata": {},
   "outputs": [
    {
     "name": "stdout",
     "output_type": "stream",
     "text": [
      "hello\n",
      "None\n"
     ]
    }
   ],
   "source": [
    "#Functions with args and return value. all functions in python has return  values,if no return it will pass none\n",
    "def func4(n):\n",
    "    print(n)\n",
    "    return # if return is commented then we get output as \"Hello\" and \"None\".else we get hello,hellopavan\n",
    "x=func4(\"hello\")   \n",
    "print(x)"
   ]
  },
  {
   "cell_type": "code",
   "execution_count": 112,
   "id": "afed0589-7ef2-4f40-bb6b-ab02666f02c6",
   "metadata": {},
   "outputs": [
    {
     "name": "stdout",
     "output_type": "stream",
     "text": [
      "6 is not prime\n"
     ]
    }
   ],
   "source": [
    "#Functions example\n",
    "\n",
    "def isprime(n):\n",
    "    if n<=1:\n",
    "        return False\n",
    "    for x in range(2,n):\n",
    "        if n % x==0:\n",
    "            return False\n",
    "    else:\n",
    "        return True\n",
    "n=6\n",
    "if isprime(n):\n",
    "    print(f'{n} is prime')\n",
    "else:\n",
    "    print(f'{n} is not prime')\n",
    "    \n",
    "        \n",
    "        "
   ]
  },
  {
   "cell_type": "code",
   "execution_count": 6,
   "id": "1f89e9ac-859e-4d73-b013-a55cfdbd5bfa",
   "metadata": {},
   "outputs": [
    {
     "name": "stdout",
     "output_type": "stream",
     "text": [
      "2 3 5 7 11 13 17 19 23 29 31 37 41 43 47 53 59 61 67 71 73 79 83 89 97 \n"
     ]
    }
   ],
   "source": [
    "#Functions example\n",
    "\n",
    "def isprime(n):\n",
    "    if n<=1:\n",
    "        return False\n",
    "    for x in range(2,n):\n",
    "        if n % x==0:\n",
    "            return False\n",
    "    else:\n",
    "        return True\n",
    "    \n",
    "def list_primes():\n",
    "    for n in range(100):\n",
    "        if isprime(n):\n",
    "            print(n,end=' ',flush=True)\n",
    "    print()\n",
    "    \n",
    "list_primes()            "
   ]
  },
  {
   "cell_type": "code",
   "execution_count": 14,
   "id": "4abfa137-3a1b-4165-8bd0-f589ac3c173e",
   "metadata": {},
   "outputs": [
    {
     "name": "stdout",
     "output_type": "stream",
     "text": [
      "quaaak\n",
      "walks\n"
     ]
    }
   ],
   "source": [
    "#Objects,class.\n",
    "class Duck:\n",
    "    def quack(self): #self is not is a keyword, we can use anything.It is reference to object in class.\n",
    "        print(\"quaaak\")\n",
    "    def walk(self):\n",
    "        print(\"walks\")\n",
    "\n",
    "def main():\n",
    "    donald = Duck() # creating object donald for class Duck\n",
    "    donald.quack() #calling method quack\n",
    "    donald.walk()\n",
    "    \n",
    "if __name__ == '__main__': main()    \n",
    "        \n",
    "        "
   ]
  },
  {
   "cell_type": "code",
   "execution_count": 18,
   "id": "8fe5c887-8c3d-4166-8af1-75e8c45f2533",
   "metadata": {},
   "outputs": [
    {
     "name": "stdout",
     "output_type": "stream",
     "text": [
      "quaaaka\n",
      "walking like duck\n"
     ]
    }
   ],
   "source": [
    "#Objects,class.\n",
    "class Duck:\n",
    "    sound =\"quaaaka\" #passing variables \n",
    "    walking = \"walking like duck\"   #passing variables \n",
    "   \n",
    "    def quack(self): #self is not is a keyword, we can use anything.It is reference to object in class.\n",
    "        print(self.sound) \n",
    "    def walk(self):\n",
    "        print(self.walking)\n",
    "\n",
    "def main():\n",
    "    donald = Duck() # creating object donald for class Duck\n",
    "    donald.quack() #calling method quack\n",
    "    donald.walk()\n",
    "    \n",
    "if __name__ == '__main__': main()   "
   ]
  },
  {
   "cell_type": "code",
   "execution_count": 30,
   "id": "82e30c82-0b45-4589-8471-ada09a2a6e8b",
   "metadata": {},
   "outputs": [
    {
     "name": "stdout",
     "output_type": "stream",
     "text": [
      "C\n",
      "A\n"
     ]
    }
   ],
   "source": [
    "def func1():\n",
    "    print('A')\n",
    "    # print('B')\n",
    "print('C')\n",
    "func1()"
   ]
  },
  {
   "cell_type": "code",
   "execution_count": 31,
   "id": "4308f5da-b184-454a-aa78-442f3af29a97",
   "metadata": {},
   "outputs": [
    {
     "name": "stdout",
     "output_type": "stream",
     "text": [
      "1\n"
     ]
    }
   ],
   "source": [
    "def function (n= 1):\n",
    "         print (n)\n",
    "\n",
    "function ( )"
   ]
  },
  {
   "cell_type": "code",
   "execution_count": 37,
   "id": "555ca3f7-935e-44e7-97b9-9fa2fca528f8",
   "metadata": {},
   "outputs": [
    {
     "name": "stdout",
     "output_type": "stream",
     "text": [
      "x value is 7\n",
      "<class 'int'>\n"
     ]
    }
   ],
   "source": [
    "#Data types and values, we have int,float,string,bool basic data types\n",
    "\n",
    "x=7\n",
    "print('x value is {}'.format(x))\n",
    "print(type(x))"
   ]
  },
  {
   "cell_type": "code",
   "execution_count": 45,
   "id": "90d012b2-c079-42fe-855c-b2fb872af775",
   "metadata": {},
   "outputs": [
    {
     "name": "stdout",
     "output_type": "stream",
     "text": [
      "x value is 7.0\n",
      "<class 'float'>\n"
     ]
    }
   ],
   "source": [
    "#Data types and values, we have int,float,string,bool basic data types\n",
    "\n",
    "x=7.0\n",
    "print('x value is {}'.format(x))\n",
    "print(type(x))"
   ]
  },
  {
   "cell_type": "code",
   "execution_count": 41,
   "id": "7955fda1-ebda-4235-b7fc-384afb40322f",
   "metadata": {},
   "outputs": [
    {
     "name": "stdout",
     "output_type": "stream",
     "text": [
      "x value is pavan\n",
      "<class 'str'>\n"
     ]
    }
   ],
   "source": [
    "#Data types and values, we have int,float,string,bool basic data types\n",
    "\n",
    "x='pavan'\n",
    "print('x value is {}'.format(x))\n",
    "print(type(x))"
   ]
  },
  {
   "cell_type": "code",
   "execution_count": 43,
   "id": "509a37d7-7c38-4869-895e-a5b4ef36105f",
   "metadata": {},
   "outputs": [
    {
     "name": "stdout",
     "output_type": "stream",
     "text": [
      "x value is True\n",
      "<class 'bool'>\n"
     ]
    }
   ],
   "source": [
    "#Data types and values, we have int,float,string,bool basic data types\n",
    "\n",
    "x=True\n",
    "print('x value is {}'.format(x))\n",
    "print(type(x))"
   ]
  },
  {
   "cell_type": "code",
   "execution_count": 47,
   "id": "cc7d7cab-37b6-458c-b72d-27c6e7ae01ec",
   "metadata": {},
   "outputs": [
    {
     "name": "stdout",
     "output_type": "stream",
     "text": [
      "x value is None\n",
      "<class 'NoneType'>\n"
     ]
    }
   ],
   "source": [
    "#Data types and values, we have int,float,string,bool basic data types\n",
    "\n",
    "x=None\n",
    "print('x value is {}'.format(x))\n",
    "print(type(x))"
   ]
  },
  {
   "cell_type": "code",
   "execution_count": 70,
   "id": "ff1c5875-e8af-4b61-b6e3-28ebedbbb634",
   "metadata": {},
   "outputs": [
    {
     "name": "stdout",
     "output_type": "stream",
     "text": [
      "seven 8 9\n",
      "seven 9 8\n",
      "seven 8 9\n",
      "seven 000000009 800000000\n",
      "x value is Seven\n",
      "x value is SEVEN\n"
     ]
    }
   ],
   "source": [
    "#Strings are objects in python\n",
    "a=8\n",
    "b=9\n",
    "x=\"seven {} {}\".format(8,9) # format applied on string\n",
    "print(x)\n",
    "\n",
    "x= f'seven {b} {a}' # format applied on string\n",
    "print(x)\n",
    "x= f\"seven {a} {b}\" # format applied on string\n",
    "print(x)\n",
    "\n",
    "a=8\n",
    "b=9\n",
    "x= f'seven {b:>09} {a:<09}' # format applied on string\n",
    "print(x)\n",
    "\n",
    "x=\"seven\".capitalize() # we are using method on strings\n",
    "print('x value is {}'.format(x))\n",
    "x=\"seven\".upper() # we are using method on strings\n",
    "print('x value is {}'.format(x))\n"
   ]
  },
  {
   "cell_type": "code",
   "execution_count": 72,
   "id": "d197fe87-a766-4611-a6bb-e74aaeec3a6a",
   "metadata": {},
   "outputs": [
    {
     "name": "stdout",
     "output_type": "stream",
     "text": [
      "5.551115123125783e-17\n"
     ]
    }
   ],
   "source": [
    "#Decimal type , especially for currency .Below example we expected 0 but due to precision in computer it gave slight upper value than 0\n",
    "x=.1+.1+.1-.3\n",
    "print(x)"
   ]
  },
  {
   "cell_type": "code",
   "execution_count": 77,
   "id": "db16558c-abe2-44b0-ab59-fc54ca4b0138",
   "metadata": {},
   "outputs": [
    {
     "name": "stdout",
     "output_type": "stream",
     "text": [
      "0.00\n",
      "<class 'decimal.Decimal'>\n"
     ]
    }
   ],
   "source": [
    "#Decimal type , to fix this we use decimal type\n",
    "from decimal import *\n",
    "a=Decimal('.10')\n",
    "b=Decimal('.30')\n",
    "x= a + a + a - b\n",
    "print(x)\n",
    "print(type(x))"
   ]
  },
  {
   "cell_type": "code",
   "execution_count": 88,
   "id": "3317533a-f849-450b-9d32-265be70c93f7",
   "metadata": {},
   "outputs": [
    {
     "name": "stdout",
     "output_type": "stream",
     "text": [
      "x value is None\n",
      "False\n",
      "y value is \n",
      "False\n",
      "z value is \n",
      "False\n",
      "m value is a\n",
      "True\n",
      "m value is a\n",
      "True\n"
     ]
    }
   ],
   "source": [
    "# None,\" \",0 evaluate to bool type 'false'\n",
    "x=None\n",
    "print('x value is {}'.format(x))\n",
    "if x:\n",
    "    print(True)\n",
    "else:\n",
    "    print(False)\n",
    "    \n",
    "y=\"\"\n",
    "print('y value is {}'.format(y))\n",
    "if y:\n",
    "    print(True)\n",
    "else:\n",
    "    print(False)    \n",
    "    \n",
    "z=\"\"\n",
    "print('z value is {}'.format(z))\n",
    "if z:\n",
    "    print(True)\n",
    "else:\n",
    "    print(False)\n",
    "    \n",
    "#Any thing other than above are true.\n",
    "m=\"a\"\n",
    "print('m value is {}'.format(m))\n",
    "if m:\n",
    "    print(True)\n",
    "else:\n",
    "    print(False)\n",
    "    \n",
    "m_1=3\n",
    "print('m value is {}'.format(m))\n",
    "if m_1:\n",
    "    print(True)\n",
    "else:\n",
    "    print(False)    \n",
    "    \n",
    "    \n"
   ]
  },
  {
   "cell_type": "code",
   "execution_count": 99,
   "id": "a43b3d8e-9bea-419c-b689-801bc7bc7732",
   "metadata": {},
   "outputs": [
    {
     "name": "stdout",
     "output_type": "stream",
     "text": [
      "<class 'list'>\n",
      "x is 1\n",
      "x is 2\n",
      "x is 3\n",
      "x is 54\n",
      "x is 5\n",
      "<class 'tuple'>\n",
      "y is 1\n",
      "y is 2\n",
      "y is 3\n",
      "y is 4\n",
      "y is 5\n"
     ]
    }
   ],
   "source": [
    "#Python provides some sequence types including lists,dictnories,tuples.\n",
    "#Lists are created within square brackets,Lists are mutable\n",
    "x=[1,2,3,4,5]\n",
    "x[3]=54\n",
    "print(type(x))    \n",
    "for i in x:\n",
    "    print(f'x is {i}')\n",
    "\n",
    "    \n",
    "#Tuple is same like list and created in paranthesis, but its immutable\n",
    "y=(1,2,3,4,5)\n",
    "print(type(y))  \n",
    "for i in y:\n",
    "    print(f'y is {i}')\n"
   ]
  },
  {
   "cell_type": "code",
   "execution_count": 111,
   "id": "8c57434c-21b8-4828-95d6-0b334e18fedf",
   "metadata": {},
   "outputs": [
    {
     "name": "stdout",
     "output_type": "stream",
     "text": [
      "0\n",
      "1\n",
      "2\n",
      "3\n",
      "4\n",
      "5\n",
      "6\n",
      "7\n",
      "8\n",
      "9\n",
      "<class 'int'>\n",
      "j is 4\n",
      "j is 5\n",
      "j is 6\n",
      "j is 7\n",
      "j is 8\n",
      "j is 9\n",
      "<class 'int'>\n",
      "j is 4\n",
      "j is 6\n",
      "j is 8\n",
      "j is 10\n",
      "j is 12\n",
      "j is 14\n",
      "j is 16\n",
      "j is 18\n",
      "[0, 1, 2, 10, 4, 5, 6]\n",
      "<class 'list'>\n"
     ]
    }
   ],
   "source": [
    "# Range is laswo immutable\n",
    "for i in range(10): #i[4] =10 will give error\n",
    "    print(i)\n",
    "print(type(i))\n",
    "# Range between\n",
    "for j in range(4,10):\n",
    "    print(f'j is {j}') \n",
    "print(type(j))    \n",
    "# Range between with step    \n",
    "for j in range(4,20,2):\n",
    "    print(f'j is {j}')    \n",
    "#we can change range to list  \n",
    "z=list(range(7))\n",
    "z[3]=10\n",
    "print(z)\n",
    "print(type(z))"
   ]
  },
  {
   "cell_type": "code",
   "execution_count": 1,
   "id": "3ef8e27f-994c-42a2-b874-6dc1f1ff210d",
   "metadata": {},
   "outputs": [
    {
     "name": "stdout",
     "output_type": "stream",
     "text": [
      "{'one': 1, 'two': 2, 'three': 3, 'four': 4, 'five': 5}\n",
      "keys is one and values is 1\n",
      "keys is two and values is 2\n",
      "keys is three and values is 3\n",
      "keys is four and values is 4\n",
      "keys is five and values is 5\n",
      "values after updating /n keys is one and values is 1\n",
      "values after updating /n keys is two and values is 2\n",
      "values after updating /n keys is three and values is 42\n",
      "values after updating /n keys is four and values is 4\n",
      "values after updating /n keys is five and values is 5\n"
     ]
    }
   ],
   "source": [
    "#Dictionary are mutable and they key and value, they are specified in flower bracket\n",
    "\n",
    "x={'one':1,'two':2,'three':3,'four':4,'five':5}\n",
    "print(x)\n",
    "     #for i in x:\n",
    "    # print(f'x is {i}') prints only keys to pull all values use below\n",
    "for i, j in x.items():\n",
    "    print(f'keys is {i} and values is {j}')\n",
    "#Dictinary are mutable\n",
    "x['three']=42\n",
    "for i, j in x.items():\n",
    "    print(f'values after updating /n keys is {i} and values is {j}')"
   ]
  },
  {
   "cell_type": "code",
   "execution_count": 43,
   "id": "d5b19055-ce4b-43bd-800a-c4ed44803316",
   "metadata": {},
   "outputs": [
    {
     "name": "stdout",
     "output_type": "stream",
     "text": [
      "y is (1, 2, 3, 4, 5)\n",
      "<class 'tuple'>\n",
      "#----------------------------------------------------------------- \n",
      " \n",
      " \n",
      "z is (1, 'two', 3.0, [4, 'foor'], 5)\n",
      "<class 'tuple'>\n",
      "<class 'str'>\n",
      "<class 'float'>\n",
      "<class 'list'>\n",
      "#----------------------------------------------------------------- \n",
      " \n",
      " \n",
      "a is (1, 'two', 3.0, [4, 'foor'], 5)\n",
      "b is (1, 'two', 3.0, [4, 'foor'], 5)\n",
      "<class 'tuple'>\n",
      "<class 'tuple'>\n",
      "2766694539408\n",
      "2766694054224\n",
      "2766613604656\n",
      "2766613604656\n",
      "#----------------------------------------------------------------- \n",
      " \n",
      " \n",
      "nope\n",
      "#----------------------------------------------------------------- \n",
      " \n",
      " \n",
      "list\n"
     ]
    }
   ],
   "source": [
    "#type() and  id()\n",
    "y=(1,2,3,4,5)\n",
    "print('y is {}'.format(y))\n",
    "print(type(y)) \n",
    "\n",
    "print(\"#----------------------------------------------------------------- \\n \\n \")\n",
    "\n",
    "z=(1,'two',3.0,[4,'foor'],5)\n",
    "print('z is {}'.format(z))\n",
    "print(type(z)) \n",
    "print(type(z[1]))\n",
    "print(type(z[2]))\n",
    "print(type(z[3]))\n",
    "\n",
    "print(\"#----------------------------------------------------------------- \\n \\n \")\n",
    "\n",
    "a=(1,'two',3.0,[4,'foor'],5)\n",
    "b=(1,'two',3.0,[4,'foor'],5)\n",
    "print('a is {}'.format(a))\n",
    "print('b is {}'.format(b))\n",
    "print(type(a))\n",
    "print(type(b))\n",
    "print(id(a)) #Id returns a unique identifier for object\n",
    "print(id(b))\n",
    "print(id(a[0])) #Id is same for literal number \n",
    "print(id(b[0]))\n",
    "\n",
    "print(\"#----------------------------------------------------------------- \\n \\n \")\n",
    "\n",
    "a=(1,'two',3.0,[4,'foor'],5)\n",
    "b=(1,'two',3.0,[4,'foor'],5)\n",
    "if tuple(a)==True: # this will not give if its tuple\n",
    "    print('yep')\n",
    "else:\n",
    "    print('nope')\n",
    "print(\"#----------------------------------------------------------------- \\n \\n \")   \n",
    "a=(1,'two',3.0,[4,'foor'],5)\n",
    "b=[1,'two',3.0,[4,'foor'],5]\n",
    "\n",
    "if isinstance(b, tuple): # this will  give if its tuple\n",
    "    print('tuple')\n",
    "elif isinstance(b, list):\n",
    "    print('list')  \n",
    "else:\n",
    "    print('nope')\n",
    "      "
   ]
  },
  {
   "cell_type": "code",
   "execution_count": 48,
   "id": "928f02b7-9498-449f-bee2-87bcc67a3f8c",
   "metadata": {},
   "outputs": [
    {
     "name": "stdout",
     "output_type": "stream",
     "text": [
      "feed the bear\n"
     ]
    }
   ],
   "source": [
    "#Conditional,comparision expresions --> ==,!=,<,>,<=,>=,and,or,not , x in y tests membship\n",
    "hungry=True\n",
    "x='feed the bear' if hungry else 'dont feed the bear' #this is ternary operator\n",
    "print(x)"
   ]
  },
  {
   "cell_type": "code",
   "execution_count": 78,
   "id": "684d283c-5a34-4bab-9475-aaeb306298f1",
   "metadata": {},
   "outputs": [
    {
     "name": "stdout",
     "output_type": "stream",
     "text": [
      "c is 30\n",
      "c is -10\n",
      "c is 0.5\n",
      "c is 5\n",
      "c is 0\n",
      "c1 is 1\n",
      "c is 100\n",
      "d is 1024\n"
     ]
    }
   ],
   "source": [
    "#Python has arithematic operations --> \n",
    "## +(addition),-(subtarction),*(multiply),/(division),//(integer division),%(modulo or remainder),**(exponent)\n",
    "a=10\n",
    "b=20\n",
    "c=a+b\n",
    "print(f'c is {c}')\n",
    "\n",
    "#print(\"#----------------------------------------------------------------- \\n \\n \") \n",
    "\n",
    "a=10\n",
    "b=20\n",
    "c=a-b\n",
    "print(f'c is {c}')\n",
    "\n",
    "#print(\"#----------------------------------------------------------------- \\n \\n \") \n",
    "\n",
    "a=10\n",
    "b=20\n",
    "c=a/b # in python 3 the value return is float earlier it e=was integer\n",
    "print(f'c is {c}')\n",
    "\n",
    "#print(\"#----------------------------------------------------------------- \\n \\n \") \n",
    "\n",
    "a=10\n",
    "b=2\n",
    "c=a//b # integer division\n",
    "print(f'c is {c}')\n",
    "\n",
    "#print(\"#----------------------------------------------------------------- \\n \\n \") \n",
    "\n",
    "a=10\n",
    "b=2\n",
    "d=3\n",
    "c=a%b # mod division\n",
    "c1=a%d\n",
    "print(f'c is {c}')\n",
    "print(f'c1 is {c1}')\n",
    "\n",
    "#print(\"#----------------------------------------------------------------- \\n \\n \") \n",
    "\n",
    "a=10\n",
    "b=2\n",
    "c= a**b # exponent means a to power of b(10*10)\n",
    "d= b**a # exponent means b to power of a(2^10)\n",
    "print(f'c is {c}')\n",
    "print(f'd is {d}')"
   ]
  },
  {
   "cell_type": "code",
   "execution_count": 85,
   "id": "bb188d6a-35a8-4cd9-80db-19cf17657545",
   "metadata": {},
   "outputs": [
    {
     "name": "stdout",
     "output_type": "stream",
     "text": [
      "comparision is true\n",
      "comparision is false\n",
      "comparision is false\n",
      "comparision is true\n",
      "comparision is true\n",
      "comparision is false\n"
     ]
    }
   ],
   "source": [
    "#comparision operator:\n",
    "\n",
    "a=10\n",
    "b=2\n",
    "if a>b:\n",
    "    print('comparision is true' )\n",
    "else:\n",
    "    print('comparision is false')\n",
    "    \n",
    "#print(\"#----------------------------------------------------------------- \\n \\n \") \n",
    "\n",
    "a=10\n",
    "b=2\n",
    "if a<b:\n",
    "    print('comparision is true' )\n",
    "else:\n",
    "    print('comparision is false')\n",
    "#print(\"#----------------------------------------------------------------- \\n \\n \") \n",
    "\n",
    "a=10\n",
    "b=2\n",
    "if a<=b:\n",
    "    print('comparision is true' )\n",
    "else:\n",
    "    print('comparision is false') \n",
    "\n",
    "#print(\"#----------------------------------------------------------------- \\n \\n \") \n",
    "\n",
    "a=10\n",
    "b=2\n",
    "if a>=b:\n",
    "    print('comparision is true' )\n",
    "else:\n",
    "    print('comparision is false')\n",
    "#print(\"#----------------------------------------------------------------- \\n \\n \") \n",
    "\n",
    "a=10\n",
    "b=10\n",
    "if a==b:\n",
    "    print('comparision is true' )\n",
    "else:\n",
    "    print('comparision is false')     \n",
    "\n",
    "#print(\"#----------------------------------------------------------------- \\n \\n \") \n",
    "\n",
    "a=10\n",
    "b=10\n",
    "if a!=b:\n",
    "    print('comparision is true' )\n",
    "else:\n",
    "    print('comparision is false')  "
   ]
  },
  {
   "cell_type": "code",
   "execution_count": 114,
   "id": "f16c3b49-c0ed-4185-8b73-006c0e42a5a3",
   "metadata": {},
   "outputs": [
    {
     "name": "stdout",
     "output_type": "stream",
     "text": [
      "print expresssion is false\n",
      "print expresssion is true\n",
      "print expresssion is false\n",
      "print expresssion is true\n",
      "#----------------------------------------------------------------- \n",
      " \n",
      " \n",
      "print expresssion is true\n",
      "print expresssion is false\n",
      "print expresssion is true\n",
      "print expresssion is false\n",
      "#----------------------------------------------------------------- \n",
      " \n",
      " \n",
      "print expresssion is false\n",
      "print expresssion is true\n",
      "2766693702000\n",
      "2766693702000\n",
      "print expresssion is false\n",
      "2766693702000\n",
      "2766694303088\n"
     ]
    }
   ],
   "source": [
    "#Boolean operators --> and,or,not,in(value in set),not in,is(same object identity),is not\n",
    "x=True\n",
    "y=False\n",
    "\n",
    "if x and y: # since one value is false result is false\n",
    "    print(\"print expresssion is true\")\n",
    "else:\n",
    "    print(\"print expresssion is false\")\n",
    "\n",
    "if x or y: # since one value is true result is true\n",
    "    print(\"print expresssion is true\")\n",
    "else:\n",
    "    print(\"print expresssion is false\")   \n",
    "    \n",
    "if not x:\n",
    "    print(\"print expresssion is true\")\n",
    "else:\n",
    "    print(\"print expresssion is false\")  \n",
    "    \n",
    "if not y:\n",
    "    print(\"print expresssion is true\")\n",
    "else:\n",
    "    print(\"print expresssion is false\") \n",
    "    \n",
    "print(\"#----------------------------------------------------------------- \\n \\n \")    \n",
    "\n",
    "x=[\"one\",\"two\",\"tree\",\"animal\",\"dog\"]\n",
    "y='one'\n",
    "\n",
    "if y in x:\n",
    "    print(\"print expresssion is true\")\n",
    "else:\n",
    "    print(\"print expresssion is false\") \n",
    "    \n",
    "if 'leaf' in x:\n",
    "    print(\"print expresssion is true\")\n",
    "else:\n",
    "    print(\"print expresssion is false\") \n",
    " \n",
    "if 'tree' in x:\n",
    "    print(\"print expresssion is true\")\n",
    "else:\n",
    "    print(\"print expresssion is false\")  \n",
    "    \n",
    "if y not in x:\n",
    "     print(\"print expresssion is true\")\n",
    "else:\n",
    "    print(\"print expresssion is false\") \n",
    "\n",
    "print(\"#----------------------------------------------------------------- \\n \\n \") \n",
    "x=[\"one\",\"two\",\"tree\",\"animal\",\"dog\"]\n",
    "y='one'\n",
    "\n",
    "if y is x:\n",
    "    print(\"print expresssion is true\")\n",
    "else:\n",
    "    print(\"print expresssion is false\") \n",
    "    \n",
    "\n",
    "if y is x[0]:\n",
    "    print(\"print expresssion is true\")\n",
    "else:\n",
    "    print(\"print expresssion is false\")   \n",
    "\n",
    "print(id(y))\n",
    "print(id(x[0]))\n",
    "\n",
    "if y is x[1]:\n",
    "    print(\"print expresssion is true\")\n",
    "else:\n",
    "    print(\"print expresssion is false\")   \n",
    "\n",
    "print(id(y))\n",
    "print(id(x[1]))\n"
   ]
  },
  {
   "cell_type": "code",
   "execution_count": 143,
   "id": "1b2ac52b-b9fc-41eb-97c4-e30b70ccba56",
   "metadata": {},
   "outputs": [
    {
     "name": "stdin",
     "output_type": "stream",
     "text": [
      "1 enter password we\n",
      "2 enter password we\n",
      "4 enter password we\n",
      "5 enter password swordfish\n"
     ]
    },
    {
     "name": "stdout",
     "output_type": "stream",
     "text": [
      "Authorised\n"
     ]
    }
   ],
   "source": [
    "#additonal control for loops- continue , break ,else\n",
    "\n",
    "secret='swordfish'\n",
    "pass1=''\n",
    "auth=False\n",
    "count=0\n",
    "max_attempt=5\n",
    "\n",
    "while pass1 != secret:\n",
    "    count+=1\n",
    "    if count > max_attempt:break #if break is not used this will create infinite loop.used to bresk out of loop prematurely\n",
    "    if count ==3 :continue #continue will start fro loop and ignore below code\n",
    "    pass1=input(f\"{count} enter password\")\n",
    "else:\n",
    "    auth=True\n",
    "    \n",
    "print(\"Authorised\" if auth else \"calling FBI\")   "
   ]
  },
  {
   "cell_type": "code",
   "execution_count": 155,
   "id": "6d2a1a43-6b88-418c-a661-a320e7ccf24c",
   "metadata": {},
   "outputs": [
    {
     "name": "stdout",
     "output_type": "stream",
     "text": [
      "dog\n",
      "cat\n",
      "rat\n",
      "bear\n",
      "that are all animals availabel\n",
      "-------------------------------------------------\n",
      "dog\n",
      "cat\n"
     ]
    }
   ],
   "source": [
    "#additonal control for loops- continue , break ,else\n",
    "animals = ['dog','cat','bat','rat','bear']\n",
    "for i in animals:\n",
    "    if i=='bat':continue # BAT IS NOT PRINTED,it skips --It shortcuts the loop.\n",
    "    print(i)\n",
    "else:\n",
    "    print(\"that are all animals availabel\")\n",
    "    \n",
    "print(\"-------------------------------------------------\")    \n",
    "\n",
    "animals = ['dog','cat','bat','rat','bear']\n",
    "for i in animals:\n",
    "    if i=='bat':break # only iteams above bat are printed,below items skipped\n",
    "    \n",
    "    print(i)\n",
    "else:\n",
    "    print(\"that are all animals availabel\")"
   ]
  },
  {
   "cell_type": "code",
   "execution_count": 166,
   "id": "b83134b9-bfd1-49ff-8200-831ae1cad0ea",
   "metadata": {},
   "outputs": [
    {
     "name": "stdout",
     "output_type": "stream",
     "text": [
      "meow\n",
      "-------------------------------------------------\n",
      "5 meow\n",
      "-------------------------------------------------\n",
      "5 meow\n",
      "None\n",
      "-------------------------------------------------\n",
      "5 meow\n"
     ]
    }
   ],
   "source": [
    "#Standart function structure\n",
    "\n",
    "def main():\n",
    "    kitten()\n",
    "    \n",
    "def kitten():\n",
    "    print(\"meow\")\n",
    "\n",
    "if __name__ == '__main__':main() \n",
    "\n",
    "print(\"-------------------------------------------------\")    \n",
    "\n",
    "def main():\n",
    "    kitten(5)\n",
    "    \n",
    "def kitten(n):\n",
    "    print(f\"{n} meow\")\n",
    "\n",
    "if __name__ == '__main__':main() \n",
    "\n",
    "print(\"-------------------------------------------------\")    \n",
    "\n",
    "def main():\n",
    "    x = kitten(5)\n",
    "    print(x)  # function always return values..if no return specifed it will return none\n",
    "    \n",
    "def kitten(n):\n",
    "    print(f\"{n} meow\")\n",
    "\n",
    "if __name__ == '__main__':main() \n",
    "\n",
    "print(\"-------------------------------------------------\")    \n",
    "\n",
    "def main():\n",
    "    x = kitten(5)\n",
    "    print(x)  # function always return values..if no return specifed it will return none.To overcome return the value\n",
    "    \n",
    "def kitten(n):\n",
    "    return (f\"{n} meow\")\n",
    "\n",
    "if __name__ == '__main__':main() "
   ]
  }
 ],
 "metadata": {
  "kernelspec": {
   "display_name": "Python 3 (ipykernel)",
   "language": "python",
   "name": "python3"
  },
  "language_info": {
   "codemirror_mode": {
    "name": "ipython",
    "version": 3
   },
   "file_extension": ".py",
   "mimetype": "text/x-python",
   "name": "python",
   "nbconvert_exporter": "python",
   "pygments_lexer": "ipython3",
   "version": "3.9.7"
  }
 },
 "nbformat": 4,
 "nbformat_minor": 5
}
