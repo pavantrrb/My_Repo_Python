{
 "cells": [
  {
   "cell_type": "code",
   "execution_count": 2,
   "id": "8c05ce53-6cce-44cd-9de2-8fbc687645a3",
   "metadata": {},
   "outputs": [
    {
     "name": "stdout",
     "output_type": "stream",
     "text": [
      "hello, World\n"
     ]
    }
   ],
   "source": [
    "print(\"hello, World\")"
   ]
  },
  {
   "cell_type": "code",
   "execution_count": 6,
   "id": "b526a68a-f532-468c-b307-d76ed304aa58",
   "metadata": {},
   "outputs": [
    {
     "name": "stdout",
     "output_type": "stream",
     "text": [
      "hello, World.pavan Here\n"
     ]
    }
   ],
   "source": [
    "#To print variable value in string.\n",
    "#format is method of string object\n",
    "x='pavan Here'\n",
    "print(\"hello, World.{}\".format(x))"
   ]
  },
  {
   "cell_type": "code",
   "execution_count": 8,
   "id": "effcd592-136b-4cee-8fff-c6f1227126be",
   "metadata": {},
   "outputs": [
    {
     "name": "stdout",
     "output_type": "stream",
     "text": [
      "hello, World.pavan Here\n"
     ]
    }
   ],
   "source": [
    "#Same as above code\n",
    "#Format- this is ot a method of print function.its method of string object itself\n",
    "x='pavan Here'\n",
    "s=\"hello, World.{}\".format(x)\n",
    "print(s)"
   ]
  },
  {
   "cell_type": "code",
   "execution_count": 1,
   "id": "7c3a0bba-ebfa-4e04-8c78-de6d165dbcc9",
   "metadata": {},
   "outputs": [
    {
     "name": "stdout",
     "output_type": "stream",
     "text": [
      "hello, World.pavan Here\n"
     ]
    }
   ],
   "source": [
    "#Beginning from 3.6 Format is changed as below\n",
    "x='pavan Here'\n",
    "print(f\"hello, World.{x}\")"
   ]
  },
  {
   "cell_type": "code",
   "execution_count": 5,
   "id": "b0d27ac5-9627-4307-b81c-2006ea020553",
   "metadata": {},
   "outputs": [
    {
     "name": "stdout",
     "output_type": "stream",
     "text": [
      "x < y: x is 42 and y is 73\n"
     ]
    }
   ],
   "source": [
    "#Blocks and indentation is either at 0 or 4th position:\n",
    "x=42\n",
    "y=73\n",
    "if x < y :\n",
    "    print('x < y: x is {} and y is {}'.format(x,y))\n",
    "    "
   ]
  },
  {
   "cell_type": "code",
   "execution_count": 8,
   "id": "50c30276-a0d1-4f1d-a1c7-e3c62c1cc9be",
   "metadata": {},
   "outputs": [
    {
     "name": "stdout",
     "output_type": "stream",
     "text": [
      "x < y: x is 42 and y is 73\n",
      "something else\n"
     ]
    }
   ],
   "source": [
    "#Blocks and indentation is either at 0 or 4th position:\n",
    "x=42\n",
    "y=73\n",
    "if x < y : #if codition true bothe iwll print else only \"something else\" will print\n",
    "    print('x < y: x is {} and y is {}'.format(x,y))\n",
    "print(\"something else\")    \n",
    "    "
   ]
  },
  {
   "cell_type": "code",
   "execution_count": 26,
   "id": "f7243368-b685-4ca0-a539-aed4b218ebc9",
   "metadata": {},
   "outputs": [
    {
     "name": "stdout",
     "output_type": "stream",
     "text": [
      "x < y: x is 42 and y is 73\n",
      "line 1\n",
      "line 2\n",
      "line 3\n",
      "line 4\n",
      "something else\n"
     ]
    }
   ],
   "source": [
    "#Blocks in python are indentent at same level and indentation is either at 0 or 4th position:\n",
    "x=42\n",
    "y=73\n",
    "if x< y : #if codition true all will print else only \"line 4\",\"something else\" will print.\n",
    "           #If any prnt or statement starts at other than 0th or 4th tab it throws unindendent error.\n",
    "    print('x < y: x is {} and y is {}'.format(x,y))\n",
    "    print(\"line 1\")\n",
    "    print(\"line 2\")\n",
    "    print(\"line 3\")\n",
    "print(\"line 4\")    \n",
    "print(\"something else\")    "
   ]
  },
  {
   "cell_type": "code",
   "execution_count": 30,
   "id": "9ef88c6b-1b78-4f78-921e-9dd3780a922f",
   "metadata": {},
   "outputs": [
    {
     "name": "stdout",
     "output_type": "stream",
     "text": [
      "line 4\n",
      "something else\n"
     ]
    }
   ],
   "source": [
    "x=42\n",
    "y=73\n",
    "if x > y : #if codition true till \"lin3 is printred and \"something else\" else only \"line 4\",\"something else\" will print.\n",
    "    print('x < y: x is {} and y is {}'.format(x,y))\n",
    "    print(\"line 1\")\n",
    "    print(\"line 2\")\n",
    "    print(\"line 3\")\n",
    "else:    \n",
    "    print(\"line 4\")    \n",
    "print(\"something else\")    "
   ]
  },
  {
   "cell_type": "code",
   "execution_count": 41,
   "id": "525f75e2-a5b8-447e-a8f8-973741d0eeb1",
   "metadata": {},
   "outputs": [
    {
     "name": "stdout",
     "output_type": "stream",
     "text": [
      "one\n",
      "two\n",
      "three\n",
      "four\n"
     ]
    },
    {
     "ename": "IndexError",
     "evalue": "list index out of range",
     "output_type": "error",
     "traceback": [
      "\u001b[1;31m---------------------------------------------------------------------------\u001b[0m",
      "\u001b[1;31mIndexError\u001b[0m                                Traceback (most recent call last)",
      "\u001b[1;32m~\\AppData\\Local\\Temp/ipykernel_24792/770538577.py\u001b[0m in \u001b[0;36m<module>\u001b[1;34m\u001b[0m\n\u001b[0;32m      5\u001b[0m \u001b[0mn\u001b[0m\u001b[1;33m=\u001b[0m\u001b[1;36m0\u001b[0m\u001b[1;33m\u001b[0m\u001b[1;33m\u001b[0m\u001b[0m\n\u001b[0;32m      6\u001b[0m \u001b[1;32mwhile\u001b[0m\u001b[1;33m(\u001b[0m\u001b[0mn\u001b[0m\u001b[1;33m<\u001b[0m\u001b[1;36m5\u001b[0m\u001b[1;33m)\u001b[0m\u001b[1;33m:\u001b[0m\u001b[1;33m\u001b[0m\u001b[1;33m\u001b[0m\u001b[0m\n\u001b[1;32m----> 7\u001b[1;33m     \u001b[0mprint\u001b[0m\u001b[1;33m(\u001b[0m\u001b[0mwords1\u001b[0m\u001b[1;33m[\u001b[0m\u001b[0mn\u001b[0m\u001b[1;33m]\u001b[0m\u001b[1;33m)\u001b[0m\u001b[1;33m\u001b[0m\u001b[1;33m\u001b[0m\u001b[0m\n\u001b[0m\u001b[0;32m      8\u001b[0m     \u001b[0mn\u001b[0m \u001b[1;33m+=\u001b[0m\u001b[1;36m1\u001b[0m\u001b[1;33m\u001b[0m\u001b[1;33m\u001b[0m\u001b[0m\n\u001b[0;32m      9\u001b[0m \u001b[0mprint\u001b[0m\u001b[1;33m(\u001b[0m\u001b[1;34m\"while condition executed\"\u001b[0m\u001b[1;33m)\u001b[0m\u001b[1;33m\u001b[0m\u001b[1;33m\u001b[0m\u001b[0m\n",
      "\u001b[1;31mIndexError\u001b[0m: list index out of range"
     ]
    }
   ],
   "source": [
    "#Loops while,For\n",
    "#Whiles loop tests a condition and execute body of loop  while condition is true\n",
    "#For loop body of loop is executed for each element in sequence until sequence completed.\n",
    "words1=['one','two','three','four']\n",
    "n=0\n",
    "while(n<5):\n",
    "    print(words1[n])\n",
    "    n +=1\n",
    "print(\"while condition executed\")    "
   ]
  },
  {
   "cell_type": "code",
   "execution_count": 47,
   "id": "65b10fed-9ef4-4bf3-8725-5774c5b74a4c",
   "metadata": {},
   "outputs": [
    {
     "name": "stdout",
     "output_type": "stream",
     "text": [
      "1 1 2 3 5 8 13 21 34 55 89 \n"
     ]
    }
   ],
   "source": [
    "#Loops while,For\n",
    "#Whiles loop tests a condition and execute body of loop  while condition is true\n",
    "#For loop body of loop is executed for each element in sequence until sequence completed.\n",
    "a, b = 0, 1\n",
    "while(b<100):\n",
    "    print(b,end=' ',flush=True)\n",
    "    a,b=b,a+b \n",
    "print()  "
   ]
  },
  {
   "cell_type": "code",
   "execution_count": 50,
   "id": "c2ea1320-296e-4bb2-9498-a4eea257fc4c",
   "metadata": {},
   "outputs": [
    {
     "name": "stdout",
     "output_type": "stream",
     "text": [
      "one\n",
      "two\n",
      "three\n",
      "four\n"
     ]
    }
   ],
   "source": [
    "# For loop is easy and convininet tham while\n",
    "words1=['one','two','three','four']\n",
    "for i in words1:\n",
    "    print(i)"
   ]
  },
  {
   "cell_type": "code",
   "execution_count": 65,
   "id": "f399af01-dc38-40a8-a0fc-cbed122bdce1",
   "metadata": {},
   "outputs": [
    {
     "name": "stdout",
     "output_type": "stream",
     "text": [
      "7\n"
     ]
    }
   ],
   "source": [
    "#Functions with default args:\n",
    "def func4(n = 7):\n",
    "    print(n)\n",
    "func4()    "
   ]
  },
  {
   "cell_type": "code",
   "execution_count": 67,
   "id": "c29ddf37-65c7-486f-afe3-817b975dba16",
   "metadata": {},
   "outputs": [
    {
     "name": "stdout",
     "output_type": "stream",
     "text": [
      "hello\n"
     ]
    }
   ],
   "source": [
    "#Functions with args:\n",
    "def func4(n):\n",
    "    print(n)\n",
    "func4(\"hello\")   "
   ]
  },
  {
   "cell_type": "code",
   "execution_count": 79,
   "id": "cd2acab6-fae1-4932-ba85-bd3b7bd8de9d",
   "metadata": {},
   "outputs": [
    {
     "name": "stdout",
     "output_type": "stream",
     "text": [
      "hello\n",
      "hello\n"
     ]
    }
   ],
   "source": [
    "#Functions with args and return value. all functions in python has return  values,if no return it will pass none\n",
    "def func4(n):\n",
    "    print(n)\n",
    "    return (n) # if return is commented then we get output as \"Hello\" and \"None\".else we get hello,hello\n",
    "x=func4(\"hello\")   \n",
    "print(x)"
   ]
  },
  {
   "cell_type": "code",
   "execution_count": 81,
   "id": "298889d1-382e-4741-b13f-c50454224464",
   "metadata": {},
   "outputs": [
    {
     "name": "stdout",
     "output_type": "stream",
     "text": [
      "hello\n",
      "hellopavan\n"
     ]
    }
   ],
   "source": [
    "#Functions with args and return value. all functions in python has return  values,if no return it will pass none\n",
    "def func4(n):\n",
    "    print(n)\n",
    "    return (n+'pavan') # if return is commented then we get output as \"Hello\" and \"None\".else we get hello,hellopavan\n",
    "x=func4(\"hello\")   \n",
    "print(x)"
   ]
  },
  {
   "cell_type": "code",
   "execution_count": 84,
   "id": "362b5fb4-e012-4a42-a0b5-8e7467575617",
   "metadata": {},
   "outputs": [
    {
     "name": "stdout",
     "output_type": "stream",
     "text": [
      "hello\n",
      "None\n"
     ]
    }
   ],
   "source": [
    "#Functions with args and return value. all functions in python has return  values,if no return it will pass none\n",
    "def func4(n):\n",
    "    print(n)\n",
    "    return # if return is commented then we get output as \"Hello\" and \"None\".else we get hello,hellopavan\n",
    "x=func4(\"hello\")   \n",
    "print(x)"
   ]
  },
  {
   "cell_type": "code",
   "execution_count": 112,
   "id": "afed0589-7ef2-4f40-bb6b-ab02666f02c6",
   "metadata": {},
   "outputs": [
    {
     "name": "stdout",
     "output_type": "stream",
     "text": [
      "6 is not prime\n"
     ]
    }
   ],
   "source": [
    "#Functions example\n",
    "\n",
    "def isprime(n):\n",
    "    if n<=1:\n",
    "        return False\n",
    "    for x in range(2,n):\n",
    "        if n % x==0:\n",
    "            return False\n",
    "    else:\n",
    "        return True\n",
    "n=6\n",
    "if isprime(n):\n",
    "    print(f'{n} is prime')\n",
    "else:\n",
    "    print(f'{n} is not prime')\n",
    "    \n",
    "        \n",
    "        "
   ]
  },
  {
   "cell_type": "code",
   "execution_count": 110,
   "id": "1f89e9ac-859e-4d73-b013-a55cfdbd5bfa",
   "metadata": {},
   "outputs": [
    {
     "name": "stdout",
     "output_type": "stream",
     "text": [
      "2 3 5 7 11 13 17 19 23 29 31 37 41 43 47 53 59 61 67 71 73 79 83 89 97 \n"
     ]
    }
   ],
   "source": [
    "#Functions example\n",
    "\n",
    "def isprime(n):\n",
    "    if n<=1:\n",
    "        return False\n",
    "    for x in range(2,n):\n",
    "        if n % x==0:\n",
    "            return False\n",
    "    else:\n",
    "        return True\n",
    "    \n",
    "def list_primes():\n",
    "    for n in range(100):\n",
    "        if isprime(n):\n",
    "            print(n,end=' ',flush=True)\n",
    "    print()\n",
    "    \n",
    "list_primes()            "
   ]
  }
 ],
 "metadata": {
  "kernelspec": {
   "display_name": "Python 3 (ipykernel)",
   "language": "python",
   "name": "python3"
  },
  "language_info": {
   "codemirror_mode": {
    "name": "ipython",
    "version": 3
   },
   "file_extension": ".py",
   "mimetype": "text/x-python",
   "name": "python",
   "nbconvert_exporter": "python",
   "pygments_lexer": "ipython3",
   "version": "3.9.7"
  }
 },
 "nbformat": 4,
 "nbformat_minor": 5
}
